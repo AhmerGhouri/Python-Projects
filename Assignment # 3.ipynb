{
 "cells": [
  {
   "cell_type": "markdown",
   "metadata": {},
   "source": [
    "# Sum All Numeric Item In Dictionary"
   ]
  },
  {
   "cell_type": "code",
   "execution_count": 1,
   "metadata": {},
   "outputs": [
    {
     "name": "stdout",
     "output_type": "stream",
     "text": [
      "Sum Of All Dictionary Values : 250\n"
     ]
    }
   ],
   "source": [
    "Dictionary = {\"Val1\" : 100 , \"Val2\" : 50 , \"Val3\" : 75 , \"Val4\" : 25}\n",
    "\n",
    "print(\"Sum Of All Dictionary Values :\",sum(Dictionary.values()))"
   ]
  },
  {
   "cell_type": "markdown",
   "metadata": {},
   "source": [
    "# Identify the Duplicte Item In List"
   ]
  },
  {
   "cell_type": "code",
   "execution_count": 2,
   "metadata": {},
   "outputs": [
    {
     "name": "stdout",
     "output_type": "stream",
     "text": [
      "Yes, list contains duplicates\n",
      "['Hello', 'Ok', 'is', 'test', 'this', 'a']\n"
     ]
    }
   ],
   "source": [
    "def checkIfDuplicates(listOfElems):\n",
    "    if len(listOfElems) == len(set(listOfElems)):\n",
    "        return False\n",
    "    else:\n",
    "        return True\n",
    "listOfElems = ['Hello', 'Ok', 'is', 'Ok', 'test', 'this', 'is', 'a', 'test']\n",
    " \n",
    "result = checkIfDuplicates(listOfElems)\n",
    " \n",
    "if result:\n",
    "    print('Yes, list contains duplicates')\n",
    "else:\n",
    "    print('No duplicates found in list') \n",
    "\n",
    "Duplicate_Elements = []\n",
    "\n",
    "for x in listOfElems:\n",
    "    if x not in Duplicate_Elements:\n",
    "        Duplicate_Elements.append(x)\n",
    "\n",
    "print(Duplicate_Elements)"
   ]
  },
  {
   "cell_type": "markdown",
   "metadata": {},
   "source": [
    "# Add A Key To Dictionary"
   ]
  },
  {
   "cell_type": "code",
   "execution_count": 15,
   "metadata": {},
   "outputs": [
    {
     "name": "stdout",
     "output_type": "stream",
     "text": [
      "{'First_Name': 'Ahmer', 'Last_Name': 'Ghouri', 'Gender': 'Male'}\n",
      "{'First_Name': 'Ahmer', 'Last_Name': 'Ghouri', 'Gender': 'Male', 'Email Address': 'ahmerghouri6@gmail.com'}\n"
     ]
    }
   ],
   "source": [
    "Dictionary = { \"First_Name\" : \"Ahmer\" , \"Last_Name\" : \"Ghouri\" , \"Gender\" : \"Male\" }\n",
    "\n",
    "print(Dictionary)\n",
    "\n",
    "Dictionary['Email Address'] = \"ahmerghouri6@gmail.com\"\n",
    "\n",
    "print(Dictionary)"
   ]
  },
  {
   "cell_type": "markdown",
   "metadata": {},
   "source": [
    "# Check if the given key in Dictionary"
   ]
  },
  {
   "cell_type": "code",
   "execution_count": 4,
   "metadata": {},
   "outputs": [
    {
     "name": "stdout",
     "output_type": "stream",
     "text": [
      "YES , This Key is Present in Dict\n",
      "50\n",
      "NO , This Key is not Present in Dict\n",
      "None\n"
     ]
    }
   ],
   "source": [
    "Dict = {1: 10, 2: 20, 3: 30, 4: 40, 5: 50, 6: 60}\n",
    "def is_key_present(x):\n",
    "    if x in Dict:\n",
    "        print('YES , This Key is Present in Dict')\n",
    "    else:\n",
    "        print('NO , This Key is not Present in Dict')\n",
    "is_key_present(5)\n",
    "print(Dict[5])\n",
    "print(is_key_present(9))\n"
   ]
  },
  {
   "cell_type": "markdown",
   "metadata": {},
   "source": [
    "# Calculator"
   ]
  },
  {
   "cell_type": "code",
   "execution_count": 18,
   "metadata": {},
   "outputs": [
    {
     "name": "stdout",
     "output_type": "stream",
     "text": [
      "Enter Your 1st Value :23323434343435235425235235343257574577578697\n",
      "Enter Your 2nd Value :4685665623065913659365030\n",
      "Enter Operator :+\n",
      "The Answer is = 23323434343435235429920900966323488236943727\n"
     ]
    }
   ],
   "source": [
    "Val1 = int(input(\"Enter Your 1st Value :\"))\n",
    "Val2 = int(input(\"Enter Your 2nd Value :\"))\n",
    "Operator = input(\"Enter Operator :\")\n",
    "\n",
    "if Operator == '+':\n",
    "    Ans = Val1 + Val2\n",
    "    print(\"The Answer is =\", Ans)\n",
    "elif Operator == '-':\n",
    "    Ans = Val1 - Val2\n",
    "    print(\"The Answer is =\", Ans)\n",
    "elif Operator == '*':\n",
    "    Ans = Val1 * Val2\n",
    "    print(\"The Answer is =\", Ans)\n",
    "elif Operator == '/':\n",
    "    Ans = Val1 / Val2\n",
    "    print(\"The Answer is =\", Ans)\n",
    "elif Operator == '**':\n",
    "    Ans = Val1 ** Val2\n",
    "    print(\"The Answer is =\", Ans)\n",
    "else: \n",
    "    print(\"--------------------------\\n   %Enter Valid Operator%   \\n--------------------------\")"
   ]
  },
  {
   "cell_type": "markdown",
   "metadata": {},
   "source": [
    "# Check Numeric Value in List Using For Loop"
   ]
  },
  {
   "cell_type": "code",
   "execution_count": 1,
   "metadata": {},
   "outputs": [
    {
     "name": "stdout",
     "output_type": "stream",
     "text": [
      "No , There Is Not Numeric Value In List\n",
      "No , There Is Not Numeric Value In List\n",
      "No , There Is Not Numeric Value In List\n",
      "No , There Is Not Numeric Value In List\n",
      "No , There Is Not Numeric Value In List\n",
      "No , There Is Not Numeric Value In List\n",
      "['Khi', 'Lah', 'Isl', 'Que', 'Pesh', 6]\n",
      "[]\n"
     ]
    }
   ],
   "source": [
    "List = [\"Khi\" , \"Lah\" , \"Isl\" , \"Que\" , \"Pesh\" , 6]\n",
    "String_List = List\n",
    "Integer_value = int\n",
    "Numeric_value = []\n",
    "\n",
    "\n",
    "for num in List:\n",
    "    if int in List:\n",
    "        Numeric_value.add(int)\n",
    "        print(\"Yes , There Is Numeric Value In List\")\n",
    "    else:\n",
    "        print(\"No , There Is Not Numeric Value In List\")\n",
    "\n",
    "print(List)\n",
    "print(Numeric_value)"
   ]
  },
  {
   "cell_type": "code",
   "execution_count": null,
   "metadata": {},
   "outputs": [],
   "source": []
  },
  {
   "cell_type": "code",
   "execution_count": null,
   "metadata": {},
   "outputs": [],
   "source": []
  },
  {
   "cell_type": "code",
   "execution_count": null,
   "metadata": {},
   "outputs": [],
   "source": []
  }
 ],
 "metadata": {
  "kernelspec": {
   "display_name": "Python 3",
   "language": "python",
   "name": "python3"
  },
  "language_info": {
   "codemirror_mode": {
    "name": "ipython",
    "version": 3
   },
   "file_extension": ".py",
   "mimetype": "text/x-python",
   "name": "python",
   "nbconvert_exporter": "python",
   "pygments_lexer": "ipython3",
   "version": "3.7.4"
  }
 },
 "nbformat": 4,
 "nbformat_minor": 2
}
