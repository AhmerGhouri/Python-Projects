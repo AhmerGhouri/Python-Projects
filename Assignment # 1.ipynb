{
 "cells": [
  {
   "cell_type": "markdown",
   "metadata": {},
   "source": [
    "# Adding Value In Given input"
   ]
  },
  {
   "cell_type": "code",
   "execution_count": 3,
   "metadata": {},
   "outputs": [
    {
     "name": "stdout",
     "output_type": "stream",
     "text": [
      "Enter your value 1st Value :Ahmer \n",
      "Enter your 2nd Value :Ghouri\n",
      "Ahmer  Ghouri\n"
     ]
    }
   ],
   "source": [
    "Add1 = input(\"Enter your value 1st Value :\")\n",
    "Add2 = input(\"Enter your 2nd Value :\")\n",
    "\n",
    "Add3 = Add1 + \" \" + Add2\n",
    "\n",
    "print(Add3)"
   ]
  },
  {
   "cell_type": "markdown",
   "metadata": {},
   "source": [
    "# Given output"
   ]
  },
  {
   "cell_type": "code",
   "execution_count": 1,
   "metadata": {},
   "outputs": [
    {
     "name": "stdout",
     "output_type": "stream",
     "text": [
      " \t Twinkle, twinkle, little star , \n",
      "\t \t  How I wonder what you are! \n",
      " \t \t \t Up Above the world so high\n",
      " \t \t \t Like a diamond in the sky\n",
      " \t Twinkle, twinkle, little star , \n",
      "\t \t  How I wonder what you are! \n"
     ]
    }
   ],
   "source": [
    "print (\" \\t Twinkle, twinkle, little star , \") \n",
    "print (\"\\t \\t  How I wonder what you are! \")\n",
    "print (\" \\t \\t \\t Up Above the world so high\")\n",
    "print (\" \\t \\t \\t Like a diamond in the sky\")\n",
    "print (\" \\t Twinkle, twinkle, little star , \") \n",
    "print (\"\\t \\t  How I wonder what you are! \")"
   ]
  },
  {
   "cell_type": "markdown",
   "metadata": {},
   "source": [
    "# Date And Time"
   ]
  },
  {
   "cell_type": "code",
   "execution_count": 20,
   "metadata": {},
   "outputs": [
    {
     "name": "stdout",
     "output_type": "stream",
     "text": [
      "2019-11-05 20:26:01.379513\n"
     ]
    }
   ],
   "source": [
    "from datetime import datetime\n",
    "\n",
    "Date = datetime.now()\n",
    "\n",
    "print(Date)"
   ]
  },
  {
   "cell_type": "code",
   "execution_count": 30,
   "metadata": {},
   "outputs": [
    {
     "name": "stdout",
     "output_type": "stream",
     "text": [
      "Today's Date is Day 5 Month 11 Year 2019\n",
      "Time is 8 : 44 : 58\n"
     ]
    }
   ],
   "source": [
    "from datetime import datetime\n",
    "\n",
    "now = datetime.now()\n",
    "currentyear = now.year\n",
    "currentmonth = now.month\n",
    "currentday = now.day\n",
    "currenthour = now.hour\n",
    "currentminute = now.minute\n",
    "currentsecond = now.second\n",
    "\n",
    "print(\"Today's Date is Day\" , currentday , \"Month\" , currentmonth , \"Year\" , currentyear)\n",
    "print(\"Time is\" , (currenthour -12) , \":\" , currentminute , \":\" , currentsecond)"
   ]
  },
  {
   "cell_type": "markdown",
   "metadata": {},
   "source": [
    "# Python Version"
   ]
  },
  {
   "cell_type": "code",
   "execution_count": 1,
   "metadata": {},
   "outputs": [
    {
     "name": "stdout",
     "output_type": "stream",
     "text": [
      "Python Version\n",
      "3.7.4 (default, Aug  9 2019, 18:34:13) [MSC v.1915 64 bit (AMD64)]\n",
      "Version Information\n",
      "sys.version_info(major=3, minor=7, micro=4, releaselevel='final', serial=0)\n"
     ]
    }
   ],
   "source": [
    "import sys\n",
    "\n",
    "print(\"Python Version\")\n",
    "print(sys.version)\n",
    "print(\"Version Information\")\n",
    "print(sys.version_info)"
   ]
  },
  {
   "cell_type": "markdown",
   "metadata": {},
   "source": [
    "# Area Of A circle"
   ]
  },
  {
   "cell_type": "code",
   "execution_count": 2,
   "metadata": {},
   "outputs": [
    {
     "name": "stdout",
     "output_type": "stream",
     "text": [
      "Input the radius of the circle : 2.3888\n",
      "The area of the circle with radius 2.3888 is: 17.927075745002686\n"
     ]
    }
   ],
   "source": [
    "from math import pi\n",
    "r = float(input (\"Input the radius of the circle : \"))\n",
    "print (\"The area of the circle with radius \" + str(r) + \" is: \" + str(pi * r**2))\n"
   ]
  },
  {
   "cell_type": "markdown",
   "metadata": {},
   "source": [
    "# Reversing Name"
   ]
  },
  {
   "cell_type": "code",
   "execution_count": 48,
   "metadata": {},
   "outputs": [
    {
     "name": "stdout",
     "output_type": "stream",
     "text": [
      " Enter Your First Name Ahmer\n",
      "Enter Your Last NameGhouri\n",
      "iruohG remhA\n"
     ]
    }
   ],
   "source": [
    "First_Name = str(input(\" Enter Your First Name \"))\n",
    "Last_Name = str(input(\"Enter Your Last Name\"))\n",
    "\n",
    "Full_name = First_Name + \" \" + Last_Name\n",
    "\n",
    "print(Full_name[::-1])"
   ]
  }
 ],
 "metadata": {
  "kernelspec": {
   "display_name": "Python 3",
   "language": "python",
   "name": "python3"
  },
  "language_info": {
   "codemirror_mode": {
    "name": "ipython",
    "version": 3
   },
   "file_extension": ".py",
   "mimetype": "text/x-python",
   "name": "python",
   "nbconvert_exporter": "python",
   "pygments_lexer": "ipython3",
   "version": "3.7.4"
  },
  "widgets": {
   "application/vnd.jupyter.widget-state+json": {
    "state": {},
    "version_major": 2,
    "version_minor": 0
   }
  }
 },
 "nbformat": 4,
 "nbformat_minor": 2
}
