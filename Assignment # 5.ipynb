{
 "cells": [
  {
   "cell_type": "markdown",
   "metadata": {},
   "source": [
    "# Question 1"
   ]
  },
  {
   "cell_type": "code",
   "execution_count": 29,
   "metadata": {},
   "outputs": [
    {
     "name": "stdout",
     "output_type": "stream",
     "text": [
      "Enter Your Number : 5\n",
      "4\n",
      "3\n",
      "2\n",
      "1\n",
      "0\n"
     ]
    },
    {
     "data": {
      "text/plain": [
       "120"
      ]
     },
     "execution_count": 29,
     "metadata": {},
     "output_type": "execute_result"
    }
   ],
   "source": [
    "def Cal_Factorial(Fac_Num):\n",
    "    if Fac_Num == 0:\n",
    "        return 1\n",
    "    elif Fac_Num < 0:\n",
    "        print(\"Oops! There is No Factorial for Negative Value\")\n",
    "    else:\n",
    "        print(Fac_Num-1)\n",
    "        return Fac_Num * Cal_Factorial(Fac_Num-1)\n",
    "    \n",
    "Fac_Num = int(input(\"Enter Your Number : \"))\n",
    "Cal_Factorial(Fac_Num)"
   ]
  },
  {
   "cell_type": "markdown",
   "metadata": {},
   "source": [
    "# Question 2"
   ]
  },
  {
   "cell_type": "code",
   "execution_count": 6,
   "metadata": {},
   "outputs": [
    {
     "name": "stdout",
     "output_type": "stream",
     "text": [
      "Enter Original String :This is Original String\n",
      "No of Upper Case Characters :  3\n",
      "No of Lower Case Characters :  17\n"
     ]
    }
   ],
   "source": [
    "def Cal_Up_Low_Case(strg):\n",
    "    Upper_Case = 0\n",
    "    Lower_Case = 0\n",
    "    for calculate in strg:\n",
    "        if calculate.isupper():\n",
    "            Upper_Case += 1\n",
    "        elif calculate.islower():\n",
    "            Lower_Case += 1\n",
    "        else:\n",
    "            pass\n",
    "    print(\"No of Upper Case Characters : \",Upper_Case)\n",
    "    print(\"No of Lower Case Characters : \",Lower_Case)\n",
    "    \n",
    "strg = input(\"Enter Original String :\")\n",
    "Cal_Up_Low_Case(strg)\n",
    "\n"
   ]
  },
  {
   "cell_type": "markdown",
   "metadata": {},
   "source": [
    "# Question 3"
   ]
  },
  {
   "cell_type": "code",
   "execution_count": 3,
   "metadata": {},
   "outputs": [
    {
     "name": "stdout",
     "output_type": "stream",
     "text": [
      "[2, 4, 6, 10, 12]\n"
     ]
    }
   ],
   "source": [
    "Numbers = [1 , 2 , 3 , 4 , 6 , 9 , 11 , 10 , 12]\n",
    "even_num = []\n",
    "def Even_Num():\n",
    "    for num in Numbers:\n",
    "        if num % 2 == 0:\n",
    "            even_num.append(num)\n",
    "    print(even_num)\n",
    "\n",
    "Even_Num()"
   ]
  },
  {
   "cell_type": "markdown",
   "metadata": {},
   "source": [
    "# Question 4"
   ]
  },
  {
   "cell_type": "code",
   "execution_count": 4,
   "metadata": {},
   "outputs": [
    {
     "name": "stdout",
     "output_type": "stream",
     "text": [
      "Enter String :Mom\n",
      "Yes, This String is Palindrome\n",
      "mom => mom\n"
     ]
    }
   ],
   "source": [
    "def isPalindrome(strg):\n",
    "    rev = strg[::-1]\n",
    "    if strg == rev:\n",
    "        print(\"Yes, This String is Palindrome\")\n",
    "        print(strg, \"=>\" , rev)\n",
    "    else:\n",
    "        print(\"No, This String is not Palindrome\")\n",
    "        print(strg, \"=>\" , rev)\n",
    "\n",
    "\n",
    "strg = input(\"Enter String :\")\n",
    "strg = strg.casefold()\n",
    "isPalindrome(strg)"
   ]
  },
  {
   "cell_type": "markdown",
   "metadata": {},
   "source": [
    "# Question 5"
   ]
  },
  {
   "cell_type": "code",
   "execution_count": 28,
   "metadata": {},
   "outputs": [
    {
     "name": "stdout",
     "output_type": "stream",
     "text": [
      "1 is not a Prime Number\n"
     ]
    }
   ],
   "source": [
    "def Check_Prime(num):\n",
    "    if num > 1:\n",
    "        for i in range(2, num//2):\n",
    "            if (num % i) == 0:\n",
    "                print(num, \"is not a Prime Number\")\n",
    "                break\n",
    "        else:\n",
    "            print(num, \"is a Prime Number\")\n",
    "    else:\n",
    "        print(num, \"is not a Prime Number\")\n",
    "        \n",
    "Check_Prime(1)"
   ]
  },
  {
   "cell_type": "markdown",
   "metadata": {},
   "source": [
    "# Question 6"
   ]
  },
  {
   "cell_type": "code",
   "execution_count": 3,
   "metadata": {},
   "outputs": [
    {
     "name": "stdout",
     "output_type": "stream",
     "text": [
      "Enter your budget : 500\n",
      "1.ADD\n",
      "2.EXIT\n",
      "Enter your choice : 1\n",
      "Enter product name : Aloo\n",
      "Enter quantity : Banana\n",
      "Enter price of the product : 100\n",
      "\n",
      "amount left 400.0\n",
      "1.ADD\n",
      "2.EXIT\n",
      "Enter your choice : 1\n",
      "Enter product name : 2\n",
      "Enter quantity : 2.5\n",
      "Enter price of the product : 200\n",
      "\n",
      "amount left 200.0\n",
      "1.ADD\n",
      "2.EXIT\n",
      "Enter your choice : 2\n",
      "\n",
      "Amount left : Rs. 200.0\n",
      "\n",
      "Amount left can buy you a 2\n",
      "\n",
      "\n",
      "\n",
      "GROCERY LIST\n",
      "Aloo Banana 100.0\n",
      "2 2.5 200.0\n"
     ]
    }
   ],
   "source": [
    "def Shopping():\n",
    "    while True:\n",
    "        try: \n",
    "            bg = float(input(\"Enter your budget : \"))\n",
    "            s = bg  \n",
    "        except ValueError: \n",
    "            print(\"PRINT NUMBER AS A AMOUNT\") \n",
    "            continue\n",
    "        else: \n",
    "            break\n",
    "     \n",
    "    a ={\"name\":[], \"quant\":[], \"price\":[]}\n",
    "    b = list(a.values())\n",
    "    na = b[0]\n",
    "    qu = b[1]\n",
    "    pr = b[2]\n",
    "    while True:\n",
    "        try: \n",
    "            ch = int(input(\"1.ADD\\n2.EXIT\\nEnter your choice : \")) \n",
    "        except ValueError: \n",
    "            print(\"\\nERROR: Choose only digits from the given option\") \n",
    "            continue\n",
    "        else:\n",
    "            if ch == 1 and s>0:                 \n",
    "                pn = input(\"Enter product name : \") \n",
    "                q = input(\"Enter quantity : \")\n",
    "                p = float(input(\"Enter price of the product : \"))\n",
    "                if p>s:\n",
    "                    print(\"\\nCAN, T BUT THE PRODUCT\")  \n",
    "                    continue\n",
    "  \n",
    "                else:\n",
    "                    if pn in na:\n",
    "                        ind = na.index(pn)\n",
    "                        qu.remove(qu[ind])\n",
    "                        pr.remove(pr[ind])\n",
    "                        qu.insert(ind, q)\n",
    "                        pr.insert(ind, p)\n",
    "                        s = bg-sum(pr)\n",
    "                        print(\"\\namount left\", s) \n",
    "                    else: \n",
    "                        na.append(pn)\n",
    "                        qu.append(q)\n",
    "                        pr.append(p)\n",
    "                        s = bg-sum(pr)\n",
    "                        print(\"\\namount left\", s)\n",
    "            elif s<= 0:  \n",
    "                print(\"\\nNO BUDGET\")  \n",
    "            else: \n",
    "                break\n",
    "    print(\"\\nAmount left : Rs.\", s)  \n",
    "\n",
    "    if s in pr:\n",
    "        print(\"\\nAmount left can buy you a\", na[pr.index(s)])\n",
    "        print(\"\\n\\n\\nGROCERY LIST\") \n",
    "    for i in range(len(na)):  \n",
    "        print(na[i], qu[i], pr[i])\n",
    "        \n",
    "Shopping()"
   ]
  }
 ],
 "metadata": {
  "kernelspec": {
   "display_name": "Python 3",
   "language": "python",
   "name": "python3"
  },
  "language_info": {
   "codemirror_mode": {
    "name": "ipython",
    "version": 3
   },
   "file_extension": ".py",
   "mimetype": "text/x-python",
   "name": "python",
   "nbconvert_exporter": "python",
   "pygments_lexer": "ipython3",
   "version": "3.7.4"
  }
 },
 "nbformat": 4,
 "nbformat_minor": 2
}
