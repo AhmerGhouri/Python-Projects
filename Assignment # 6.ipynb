{
 "cells": [
  {
   "cell_type": "markdown",
   "metadata": {},
   "source": [
    "# Question 1\n",
    "\n",
    "   Define Object Oriented Programming Language?"
   ]
  },
  {
   "cell_type": "markdown",
   "metadata": {},
   "source": [
    "Object Oriented Programming Language (OOPL) is a programming that can be based On Object, which can be data in the form of attributes or properties.The code of (OOPL) in the form of methods.OOP languages are diverse, but the most popular ones are class-based, meaning that objects are instances of classes.Significant object-oriented languages include Java, C++, C#, Python, PHP, JavaScript, Ruby, Perl, Object Pascal, Objective-C, Dart, Swift, Scala, Common Lisp, MATLAB, and Smalltalk."
   ]
  },
  {
   "cell_type": "markdown",
   "metadata": {},
   "source": [
    "# Question 2\n",
    "\n",
    "List down the Benefits of OOP?"
   ]
  },
  {
   "cell_type": "markdown",
   "metadata": {},
   "source": [
    "# Advantages of OOP:"
   ]
  },
  {
   "cell_type": "markdown",
   "metadata": {},
   "source": [
    "# Modular Structure\n",
    "1.It provides a clear modular structure for programs which makes it good for defining abstract datatypes in which implementation details are hidden."
   ]
  },
  {
   "cell_type": "markdown",
   "metadata": {},
   "source": [
    "# Reused\n",
    "2.Objects can also be reused within an across applications. The reuse of software also lowers the cost of development. More effort is put into the object-oriented analysis and design, which lowers the overall cost of development."
   ]
  },
  {
   "cell_type": "markdown",
   "metadata": {},
   "source": [
    "# Easier To Maintain\n",
    "3.It makes software easier to maintain. Since the design is modular, part of the system can be updated in case of issues without a need to make large-scale changes."
   ]
  },
  {
   "cell_type": "markdown",
   "metadata": {},
   "source": [
    "# Faster Development\n",
    "4.Reuse also enables faster development. Object-oriented programming languages come with rich libraries of objects, and code developed during projects is also reusable in future projects."
   ]
  },
  {
   "cell_type": "markdown",
   "metadata": {},
   "source": [
    "# Easily Adapted & Modified\n",
    "5.It provides a good framework for code libraries where the supplied software components can be easily adapted and modified by the programmer. This is particularly useful for developing graphical user interfaces."
   ]
  },
  {
   "cell_type": "markdown",
   "metadata": {},
   "source": [
    "# Better Productivity\n",
    "6.Better Productivity as OOP techniques enforce rules on a programmer that, in the long run, help her get more work done; finished programs work better, have more features and are easier to read and maintain. OOP programmers take new and existing software objects and \"stitch\" them together to make new programs. Because object libraries contain many useful functions, software developers don't have to reinvent the wheel as often; more of their time goes into making the new program."
   ]
  },
  {
   "cell_type": "markdown",
   "metadata": {},
   "source": [
    "# Question 3\n",
    "Differentiate between function and method?"
   ]
  },
  {
   "cell_type": "raw",
   "metadata": {},
   "source": [
    "                             Method\n",
    "\n",
    "1. Method is called by its name, but it is associated to an object (dependent).\n",
    "2. A method is implicitly passed the object on which it is invoked.\n",
    "3. It may or may not return any data.\n",
    "4. A method can operate on the data (instance variables) that is contained by the corresponding class"
   ]
  },
  {
   "cell_type": "raw",
   "metadata": {},
   "source": [
    "                             Functions\n",
    "\n",
    "1. Function is block of code that is also called by its name. (independent)\n",
    "2. The function can have different parameters or may not have any at all. If any data (parameters) are passed, they are passed explicitly.\n",
    "3. It may or may not return any data.\n",
    "4. Function does not deal with Class and its instance concept."
   ]
  },
  {
   "cell_type": "markdown",
   "metadata": {},
   "source": [
    "# Question 4\n",
    "Define the following terms:\n",
    "1. Class\n",
    "2. Object\n",
    "3. Attribute\n",
    "4. Behavior"
   ]
  },
  {
   "cell_type": "markdown",
   "metadata": {},
   "source": [
    "# 1.Class\n",
    "\n",
    "A class is a code template for creating objects. Objects have member variables and have behaviour associated with them.a class is created by the keyword class . An object is created using the constructor of the class. This object will then be called the instance of the class."
   ]
  },
  {
   "cell_type": "markdown",
   "metadata": {},
   "source": [
    "# 2.Object\n",
    "\n",
    "Object defines a set of attributes that will characterize any object that is instantiated from this class. Object is an instance of a class. This is the realized version of the class, where the class is manifested in the program."
   ]
  },
  {
   "cell_type": "markdown",
   "metadata": {},
   "source": [
    "# 3.Attribute\n",
    "\n",
    "1. A quality, character, or characteristic ascribed to someone or something has leadership attributes. \n",
    "2. An object closely associated with or belonging to a specific person, thing, or office a scepter is the attribute of power especially.\n",
    "3. Such an object used for identification in painting or sculpture.\n"
   ]
  },
  {
   "cell_type": "markdown",
   "metadata": {},
   "source": [
    "# 4.Behaviour\n",
    "\n",
    "Object Behavior and Special Methods. Objects in Python are generally classified according to their behaviors and the features that they implement.User-defined classes can define new objects that behave like the built-in types simply by supplying an appropriate subset of the special methods described in this section.\n"
   ]
  },
  {
   "cell_type": "markdown",
   "metadata": {},
   "source": [
    "# Question 5\n"
   ]
  },
  {
   "cell_type": "code",
   "execution_count": 9,
   "metadata": {},
   "outputs": [
    {
     "name": "stdout",
     "output_type": "stream",
     "text": [
      "This is HONDA Civic 1300 CC in Black Color with the Average of 70 Km/lit\n",
      "This is AUDI A8 1300 CC in White Color with the Average of 70 Km/lit\n",
      "This is HONDA ASPIRE 1300 CC in Grey Color with the Average of 100 Km/lit\n",
      "This is TOYOTA COROLLA XLI 1300 CC in Red Color with the Average of 90 Km/lit\n",
      "This is TOYOTA COROLLA GLI 1300 CC in Black Color with the Average of 120 Km/lit\n"
     ]
    }
   ],
   "source": [
    "class Car:\n",
    "    \n",
    "    def Car1(self):\n",
    "        print(f\"This is {self.Company} {self.Model} {self.CC} CC in {self.Color} Color with the Average of {self.Avg}\")\n",
    "        \n",
    "Obj = Car()\n",
    "Obj.Company = \"HONDA\"\n",
    "Obj.Model = \"Civic\"\n",
    "Obj.Color = \"Black\"\n",
    "Obj.CC = \"1300\"\n",
    "Obj.Avg = \"70 Km/lit\"\n",
    "\n",
    "Obj1 = Car()\n",
    "Obj1.Company = \"AUDI\"\n",
    "Obj1.Model = \"A8\"\n",
    "Obj1.Color = \"White\"\n",
    "Obj1.CC = \"1300\"\n",
    "Obj1.Avg = \"70 Km/lit\"\n",
    "             \n",
    "Obj2 = Car()\n",
    "Obj2.Company = \"HONDA\"\n",
    "Obj2.Model = \"ASPIRE\"\n",
    "Obj2.Color = \"Grey\"\n",
    "Obj2.CC = \"1300\"\n",
    "Obj2.Avg = \"100 Km/lit\"\n",
    "             \n",
    "Obj3 = Car()\n",
    "Obj3.Company = \"TOYOTA\"\n",
    "Obj3.Model = \"COROLLA XLI\"\n",
    "Obj3.Color = \"Red\"\n",
    "Obj3.CC = \"1300\"\n",
    "Obj3.Avg = \"90 Km/lit\"\n",
    "             \n",
    "Obj4 = Car()\n",
    "Obj4.Company = \"TOYOTA\"\n",
    "Obj4.Model = \"COROLLA GLI\"\n",
    "Obj4.Color = \"Black\"\n",
    "Obj4.CC = \"1300\"\n",
    "Obj4.Avg = \"120 Km/lit\"\n",
    "             \n",
    "Obj.Car1()\n",
    "Obj1.Car1()\n",
    "Obj2.Car1()\n",
    "Obj3.Car1()\n",
    "Obj4.Car1()\n",
    "    \n",
    "    "
   ]
  }
 ],
 "metadata": {
  "kernelspec": {
   "display_name": "Python 3",
   "language": "python",
   "name": "python3"
  },
  "language_info": {
   "codemirror_mode": {
    "name": "ipython",
    "version": 3
   },
   "file_extension": ".py",
   "mimetype": "text/x-python",
   "name": "python",
   "nbconvert_exporter": "python",
   "pygments_lexer": "ipython3",
   "version": "3.7.4"
  }
 },
 "nbformat": 4,
 "nbformat_minor": 2
}
