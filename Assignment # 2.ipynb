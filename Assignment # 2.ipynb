{
 "cells": [
  {
   "cell_type": "markdown",
   "metadata": {},
   "source": [
    "\n",
    "\n",
    "# Lenght of the List"
   ]
  },
  {
   "cell_type": "code",
   "execution_count": 2,
   "metadata": {},
   "outputs": [
    {
     "name": "stdout",
     "output_type": "stream",
     "text": [
      "11\n"
     ]
    }
   ],
   "source": [
    "a = [1, 1, 2, 3, 5, 8, 13, 21, 34, 55, 89]\n",
    "\n",
    "\n",
    "print(len(a))"
   ]
  },
  {
   "cell_type": "markdown",
   "metadata": {},
   "source": [
    "# Print Numbers Less Than <5"
   ]
  },
  {
   "cell_type": "code",
   "execution_count": 17,
   "metadata": {},
   "outputs": [
    {
     "name": "stdout",
     "output_type": "stream",
     "text": [
      "[1, 1, 2, 3]\n"
     ]
    }
   ],
   "source": [
    "a = [1, 1, 2, 3, 5, 8, 13, 21, 34, 55, 89]\n",
    "new_list = []\n",
    "\n",
    "for i in a:\n",
    "    if i < 5:\n",
    "        new_list.append(i)\n",
    "        \n",
    "print(new_list)\n",
    "        "
   ]
  },
  {
   "cell_type": "markdown",
   "metadata": {},
   "source": [
    "# Greater Number in list"
   ]
  },
  {
   "cell_type": "code",
   "execution_count": 10,
   "metadata": {},
   "outputs": [
    {
     "name": "stdout",
     "output_type": "stream",
     "text": [
      "89\n"
     ]
    }
   ],
   "source": [
    "a = [1, 1, 2, 3, 5, 8, 13, 21, 34, 55, 89]\n",
    "\n",
    "print(max(a))"
   ]
  },
  {
   "cell_type": "markdown",
   "metadata": {},
   "source": [
    "# Sum All Item In List"
   ]
  },
  {
   "cell_type": "code",
   "execution_count": 8,
   "metadata": {},
   "outputs": [
    {
     "name": "stdout",
     "output_type": "stream",
     "text": [
      "232\n"
     ]
    }
   ],
   "source": [
    "a = [1, 1, 2, 3, 5, 8, 13, 21, 34, 55, 89]\n",
    "\n",
    "Total_Sum = sum(a)\n",
    "\n",
    "print (Total_Sum)"
   ]
  },
  {
   "cell_type": "markdown",
   "metadata": {},
   "source": [
    "# Take 5 Input of Different Subject And Given Marks With Grade\n"
   ]
  },
  {
   "cell_type": "code",
   "execution_count": 1,
   "metadata": {},
   "outputs": [
    {
     "name": "stdout",
     "output_type": "stream",
     "text": [
      "Marks Gained In Maths Out Of 100 / 85\n",
      " \tMath Marks = 85 / 100\n",
      "\n",
      "Marks Gained In Physics Out Of 100 / 75\n",
      " \tPhysics Marks =  75 / 100\n",
      "\n",
      "Marks Gained In Chemistry Out Of 100 / 89\n",
      " \tChemistry Marks =  89 / 100\n",
      "\n",
      "Marks Gained In English Out Of 75 / 72\n",
      " \tEnglish Marks =  72 / 75\n",
      "\n",
      "Marks Gained In Urdu Out Of 75 / 73\n",
      " \tUrdu Marks =  73 / 75\n",
      "\n",
      "Total Marks  394 / 450\n",
      "Percentage Achieved = 87.55555555555556 %\n",
      "\t You Got A+\n"
     ]
    }
   ],
   "source": [
    "Math = int(input(\"Marks Gained In Maths Out Of 100 / \"))\n",
    "print(\" \\tMath Marks =\" , Math,\"/ 100\")\n",
    "\n",
    "\n",
    "\n",
    "Physics = int(input(\"\\nMarks Gained In Physics Out Of 100 / \"))\n",
    "print(\" \\tPhysics Marks = \", Physics,\"/ 100\")\n",
    "\n",
    "\n",
    "\n",
    "Chemistry = int(input(\"\\nMarks Gained In Chemistry Out Of 100 / \"))\n",
    "print(\" \\tChemistry Marks = \", Chemistry,\"/ 100\")\n",
    "\n",
    "\n",
    "\n",
    "English = int(input(\"\\nMarks Gained In English Out Of 75 / \"))\n",
    "print(\" \\tEnglish Marks = \", English,\"/ 75\")\n",
    "\n",
    "\n",
    "\n",
    "Urdu = int(input(\"\\nMarks Gained In Urdu Out Of 75 / \"))\n",
    "print(\" \\tUrdu Marks = \", Urdu, \"/ 75\")\n",
    "\n",
    "\n",
    "Total_Marks = Math + Physics + English + Chemistry + Urdu\n",
    "print(\"\\nTotal Marks \",Total_Marks,\"/ 450\")\n",
    "\n",
    "\n",
    "\n",
    "Percentage = Total_Marks / 450 * 100\n",
    "print (\"Percentage Achieved =\",Percentage,\"%\")\n",
    "\n",
    "if Percentage >= 80:\n",
    "    print(\"\\t You Got A+\")\n",
    "elif Percentage >= 70:\n",
    "    print(\"\\t You Got A Grade\")\n",
    "elif Percentage >= 60 :\n",
    "    print(\"\\t You Got B Grade\")\n",
    "elif Percentage >= 50:\n",
    "    print(\"\\t You Got C Grade\")\n",
    "elif Percentage >= 40:\n",
    "    print(\"\\t You Got D Grade\")\n",
    "elif Percentage >= 30:\n",
    "    print(\"\\t You Got E Grade\")\n",
    "else:\n",
    "    print(\"\\t You Are Failed\")"
   ]
  },
  {
   "cell_type": "markdown",
   "metadata": {},
   "source": [
    "# Even And Odd"
   ]
  },
  {
   "cell_type": "code",
   "execution_count": 3,
   "metadata": {},
   "outputs": [
    {
     "name": "stdout",
     "output_type": "stream",
     "text": [
      "Enter Your Number :2\n",
      "This Is an Even Number\n"
     ]
    }
   ],
   "source": [
    "Numbers = int(input(\"Enter Your Number :\"))\n",
    "\n",
    "Even_Or_Odd = Numbers % 2\n",
    "\n",
    "if Even_Or_Odd > 0:\n",
    "    print(\"This Is an Odd Number\")\n",
    "else:\n",
    "    print(\"This Is an Even Number\")"
   ]
  }
 ],
 "metadata": {
  "kernelspec": {
   "display_name": "Python 3",
   "language": "python",
   "name": "python3"
  },
  "language_info": {
   "codemirror_mode": {
    "name": "ipython",
    "version": 3
   },
   "file_extension": ".py",
   "mimetype": "text/x-python",
   "name": "python",
   "nbconvert_exporter": "python",
   "pygments_lexer": "ipython3",
   "version": "3.7.4"
  }
 },
 "nbformat": 4,
 "nbformat_minor": 2
}
