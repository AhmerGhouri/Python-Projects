{
 "cells": [
  {
   "cell_type": "markdown",
   "metadata": {},
   "source": [
    "# Question 1:"
   ]
  },
  {
   "cell_type": "code",
   "execution_count": 1,
   "metadata": {},
   "outputs": [
    {
     "name": "stdout",
     "output_type": "stream",
     "text": [
      "Full Name : Haris Ahmed\n",
      "Age : 22\n",
      "City : Karachi\n",
      "\n",
      " {'First Name': 'Haris', 'Last Name': 'Ahmed', 'Age': '22', 'City': 'Karachi', 'Qualification': 'Intermediate'}\n",
      "\n",
      " {'First Name': 'Haris', 'Last Name': 'Ahmed', 'Age': '22', 'City': 'Karachi', 'Qualification': 'High Academic Level'}\n",
      "\n",
      " {'First Name': 'Haris', 'Last Name': 'Ahmed', 'Age': '22', 'City': 'Karachi'}\n"
     ]
    }
   ],
   "source": [
    "Dict = {\"First Name\" : \"Haris\" , \"Last Name\" : \"Ahmed\" , \"Age\" : \"22\" , \"City\" : \"Karachi\"}\n",
    "\n",
    "print(\"Full Name :\" , Dict[\"First Name\"] , Dict[\"Last Name\"])\n",
    "print(\"Age :\" , Dict[\"Age\"])\n",
    "print(\"City :\" , Dict[\"City\"])\n",
    "\n",
    "Dict[\"Qualification\"] = \"Intermediate\"\n",
    "\n",
    "print(\"\\n\",Dict)\n",
    "\n",
    "Dict.update({\"Qualification\" : \"High Academic Level\"})\n",
    "\n",
    "print(\"\\n\",Dict)\n",
    "\n",
    "del Dict[\"Qualification\"]\n",
    "\n",
    "print(\"\\n\",Dict)"
   ]
  },
  {
   "cell_type": "markdown",
   "metadata": {},
   "source": [
    "# Question 2"
   ]
  },
  {
   "cell_type": "code",
   "execution_count": 2,
   "metadata": {},
   "outputs": [
    {
     "name": "stdout",
     "output_type": "stream",
     "text": [
      "\t\t\t---------------------- :  Islamabad : ----------------------\t\t\t\n",
      " Islamabad is the capital city for the Islamic Republic of Pakistan.Islamabad is home to the Faisal Mosque, the world’s fourth-largest mosque,The current population of Islamabad in 2019 is 1,095,000. \n",
      "\n",
      "\t\t\t---------------------- :  New Delhi : ----------------------\t\t\t\n",
      " India’s Capital city, New Delhi is a symbol of the country’s rich history and thriving present, Population of New Delhi in 2019 is 19.8 million.  \n",
      "\n",
      "\t\t\t---------------------- :  Washington D.C  : ---------------------\t\t\t\n",
      " Washington D.C., has been the federal capital city of the United States Of America since 1802.The White House movie theater was originally a coatroomIn 2019, Washington, D.C. has an estimated population of 711,571.\n"
     ]
    }
   ],
   "source": [
    "cities = { \"Pakistan\" : \"Islamabad\" , \"India\" : \"New Delhi\" , \"America\" : \"Washington D.C\" }\n",
    "information = {\"Islamabad\" : \"Islamabad is the capital city for the Islamic Republic of Pakistan.Islamabad is home to the Faisal Mosque, the world’s fourth-largest mosque,The current population of Islamabad in 2019 is 1,095,000.\" ,\n",
    "              \"New Delhi\" : \"India’s Capital city, New Delhi is a symbol of the country’s rich history and thriving present, Population of New Delhi in 2019 is 19.8 million. \" ,\n",
    "              \"Washington D.C\" : \"Washington D.C., has been the federal capital city of the United States Of America since 1802.The White House movie theater was originally a coatroomIn 2019, Washington, D.C. has an estimated population of 711,571.\"}\n",
    "\n",
    "\n",
    "print( \"\\t\\t\\t---------------------- : \",cities[\"Pakistan\"], \": ----------------------\\t\\t\\t\\n\" ,information[\"Islamabad\"],\"\\n\")\n",
    "\n",
    "print( \"\\t\\t\\t---------------------- : \",cities[\"India\"], \": ----------------------\\t\\t\\t\\n\" ,information[\"New Delhi\"],\"\\n\")\n",
    "\n",
    "print( \"\\t\\t\\t---------------------- : \",cities[\"America\"],\" : ---------------------\\t\\t\\t\\n\" ,information[\"Washington D.C\"])"
   ]
  },
  {
   "cell_type": "markdown",
   "metadata": {},
   "source": [
    "# Question 3"
   ]
  },
  {
   "cell_type": "code",
   "execution_count": 2,
   "metadata": {},
   "outputs": [
    {
     "name": "stdout",
     "output_type": "stream",
     "text": [
      "----------------------------------- % You Want A Movie Ticket % -----------------------------------\n",
      "Please Enter your age : 13\n",
      "   \n",
      "\t\t\t\t/\\ Your Ticket is $15 Dollars Only /\\ \n"
     ]
    }
   ],
   "source": [
    "print(\"----------------------------------- % You Want A Movie Ticket % -----------------------------------\")\n",
    "age = int(input(\"Please Enter your age : \"))\n",
    "\n",
    "\n",
    "while True:\n",
    "    if age <= 3 :\n",
    "        print(\"   \\n\\t\\t\\t\\t   /\\ Your Ticket is Free /\\ \")\n",
    "    elif age <= 12:\n",
    "        print(\"   \\n\\t\\t\\t\\t/\\ Your Ticket is $10 Dollars Only /\\ \")\n",
    "    else:\n",
    "        print(\"   \\n\\t\\t\\t\\t/\\ Your Ticket is $15 Dollars Only /\\ \")\n",
    "    break\n",
    "\n"
   ]
  },
  {
   "cell_type": "markdown",
   "metadata": {},
   "source": [
    "# Question 4"
   ]
  },
  {
   "cell_type": "code",
   "execution_count": 5,
   "metadata": {},
   "outputs": [
    {
     "name": "stdout",
     "output_type": "stream",
     "text": [
      "One Of My Favourite Books is The Jungle Book in Wonderland \n"
     ]
    }
   ],
   "source": [
    "def Favourite_Book(title):\n",
    "    print(\"One Of My Favourite Books is {} in Wonderland \".format(title))\n",
    "\n",
    "Favourite_Book(\"The Jungle Book\")"
   ]
  },
  {
   "cell_type": "markdown",
   "metadata": {},
   "source": [
    "# Question 5"
   ]
  },
  {
   "cell_type": "code",
   "execution_count": 30,
   "metadata": {},
   "outputs": [
    {
     "name": "stdout",
     "output_type": "stream",
     "text": [
      "//////// What is your Name ?? \\\\\\\\\n",
      "Ahmer\n",
      "Hi!  Ahmer I am thinking Of Num between 1 to 30\n",
      "7\n",
      "Take Your Guess :\n",
      "Enter Your Guess6\n",
      "Your Guess is Too Low\n",
      "7\n",
      "Take Your Guess :\n",
      "Enter Your Guess8\n",
      "Your Gess is Too High\n",
      "7\n",
      "Take Your Guess :\n",
      "Enter Your Guess9\n",
      "Your Gess is Too High\n",
      "7\n",
      "Take Your Guess :\n",
      "Enter Your Guess1\n",
      "Your Guess is Too Low\n",
      "Nope! The number i was thinking of  7\n"
     ]
    }
   ],
   "source": [
    "print(\"//////// What is your Name ?? \\\\\\\\\\\\\\\\\")\n",
    "UserName = input(\"\")\n",
    "print(\"Hi! \", UserName , \"I am thinking Of Num between 1 to 30\")\n",
    "\n",
    "GuessessTaken = 0\n",
    "RandomNum = random.randint(1,30)\n",
    "\n",
    "while GuessessTaken < 4:\n",
    "    print(RandomNum)\n",
    "    print(\"Take Your Guess :\")\n",
    "    Guess = int(input(\"Enter Your Guess\"))\n",
    "    \n",
    "    GuessessTaken = GuessessTaken + 1\n",
    "\n",
    "    if Guess < RandomNum:\n",
    "        print(\"Your Guess is Too Low\")\n",
    "    \n",
    "    elif Guess > RandomNum:\n",
    "        print(\"Your Gess is Too High\")\n",
    "    \n",
    "    elif Guess == RandomNum:\n",
    "        break\n",
    "\n",
    "\n",
    "if Guess == RandomNum:\n",
    "    GuessessTaken = str(GuessessTaken)\n",
    "    print(\"Hey Good Job! {} You Got the Gess\".format(UserName) , GuessessTaken , ' Guesses!' )\n",
    "    \n",
    "if Guess != RandomNum:\n",
    "    RandomNum = str(RandomNum)\n",
    "    print(\"Nope! The number i was thinking of \",RandomNum)\n",
    "    \n",
    "        \n",
    "    \n"
   ]
  }
 ],
 "metadata": {
  "kernelspec": {
   "display_name": "Python 3",
   "language": "python",
   "name": "python3"
  },
  "language_info": {
   "codemirror_mode": {
    "name": "ipython",
    "version": 3
   },
   "file_extension": ".py",
   "mimetype": "text/x-python",
   "name": "python",
   "nbconvert_exporter": "python",
   "pygments_lexer": "ipython3",
   "version": "3.7.4"
  }
 },
 "nbformat": 4,
 "nbformat_minor": 2
}
